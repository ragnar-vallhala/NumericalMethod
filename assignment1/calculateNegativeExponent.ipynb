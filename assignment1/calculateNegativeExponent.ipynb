{
 "cells": [
  {
   "cell_type": "code",
   "execution_count": 30,
   "metadata": {},
   "outputs": [],
   "source": [
    "def expNegX(exp,precesion=10**(-20)):\n",
    "    ans=1\n",
    "    prevTerm=1\n",
    "    newTerm=1\n",
    "    iter = 0\n",
    "    while True:\n",
    "        prevTerm=newTerm\n",
    "        iter+=1\n",
    "        newTerm = (prevTerm*(exp/iter))\n",
    "        test=ans\n",
    "        ans+= newTerm\n",
    "        \n",
    "\n",
    "\n",
    "        if abs(abs(ans)-abs(test))<precesion:\n",
    "            break\n",
    "        \n",
    "\n",
    "        print(newTerm,prevTerm)\n",
    "        \n",
    "    \n",
    "    return ans\n",
    "    \n",
    "\n"
   ]
  },
  {
   "cell_type": "markdown",
   "metadata": {},
   "source": [
    "1 + x/1! + x^2/2! + x^3/3! + ...... + until n terms"
   ]
  },
  {
   "cell_type": "code",
   "execution_count": 38,
   "metadata": {},
   "outputs": [
    {
     "name": "stdout",
     "output_type": "stream",
     "text": [
      "5.0 1\n",
      "12.5 5.0\n",
      "20.833333333333336 12.5\n",
      "26.04166666666667 20.833333333333336\n",
      "26.04166666666667 26.04166666666667\n",
      "21.701388888888893 26.04166666666667\n",
      "15.500992063492067 21.701388888888893\n",
      "9.688120039682541 15.500992063492067\n",
      "5.382288910934745 9.688120039682541\n",
      "2.6911444554673727 5.382288910934745\n",
      "1.2232474797578967 2.6911444554673727\n",
      "0.5096864498991237 1.2232474797578967\n",
      "0.19603324996120144 0.5096864498991237\n",
      "0.07001187498614338 0.19603324996120144\n",
      "0.02333729166204779 0.07001187498614338\n",
      "0.0072929036443899345 0.02333729166204779\n",
      "0.0021449716601146867 0.0072929036443899345\n",
      "0.0005958254611429686 0.0021449716601146867\n",
      "0.0001567961739849917 0.0005958254611429686\n",
      "3.9199043496247926e-05 0.0001567961739849917\n",
      "9.333105594344744e-06 3.9199043496247926e-05\n",
      "2.1211603623510783e-06 9.333105594344744e-06\n",
      "4.611218179024083e-07 2.1211603623510783e-06\n",
      "9.606704539633507e-08 4.611218179024083e-07\n",
      "1.9213409079267014e-08 9.606704539633507e-08\n",
      "3.6948863613975028e-09 1.9213409079267014e-08\n",
      "6.842382150736115e-10 3.6948863613975028e-09\n",
      "1.221853955488592e-10 6.842382150736115e-10\n",
      "2.1066447508424003e-11 1.221853955488592e-10\n",
      "3.5110745847373336e-12 2.1066447508424003e-11\n",
      "5.663023523769893e-13 3.5110745847373336e-12\n",
      "8.848474255890458e-14 5.663023523769893e-13\n"
     ]
    }
   ],
   "source": [
    "num1 = expNegX(5)"
   ]
  },
  {
   "cell_type": "code",
   "execution_count": 32,
   "metadata": {},
   "outputs": [],
   "source": [
    "import numpy as np"
   ]
  },
  {
   "cell_type": "code",
   "execution_count": 39,
   "metadata": {},
   "outputs": [],
   "source": [
    "num2 = np.exp(5)"
   ]
  },
  {
   "cell_type": "code",
   "execution_count": 40,
   "metadata": {},
   "outputs": [
    {
     "data": {
      "text/plain": [
       "148.4131591025766"
      ]
     },
     "execution_count": 40,
     "metadata": {},
     "output_type": "execute_result"
    }
   ],
   "source": [
    "num1"
   ]
  },
  {
   "cell_type": "code",
   "execution_count": 34,
   "metadata": {},
   "outputs": [],
   "source": [
    "absoluteError = abs(num2-num1)"
   ]
  },
  {
   "cell_type": "code",
   "execution_count": 36,
   "metadata": {},
   "outputs": [
    {
     "name": "stdout",
     "output_type": "stream",
     "text": [
      "Absolute Error  8.291978215169138e-16 \n",
      " Percentage Error 1.2306386821229966e-11\n"
     ]
    }
   ],
   "source": [
    "print(\"Absolute Error \",absoluteError,'\\n',\"Percentage Error\",absoluteError/num2*100)"
   ]
  },
  {
   "cell_type": "markdown",
   "metadata": {},
   "source": [
    "<h1>Float Limit E</h1>"
   ]
  },
  {
   "cell_type": "code",
   "execution_count": 28,
   "metadata": {},
   "outputs": [
    {
     "name": "stdout",
     "output_type": "stream",
     "text": [
      "1.1102230246251565e-16\n"
     ]
    }
   ],
   "source": [
    "num = 1\n",
    "while True:\n",
    "    if (num+1<=1):\n",
    "        print(num)\n",
    "        break\n",
    "    \n",
    "    num/=2"
   ]
  },
  {
   "cell_type": "markdown",
   "metadata": {},
   "source": [
    "3. Consider open-channel flow of water in a circular pipe of diameter D. The water level\n",
    "is at a height h from the lowest point in the cross-section of the pipe. Compute the\n",
    "value of the ratio h/D using the bisection method, when (a) 20 % (b) 40 % (c) 60 %,\n",
    "and (d) 80 % of the cross-sectional area is occupied by liquid."
   ]
  },
  {
   "cell_type": "markdown",
   "metadata": {},
   "source": [
    "20%"
   ]
  },
  {
   "cell_type": "code",
   "execution_count": 96,
   "metadata": {},
   "outputs": [
    {
     "name": "stdout",
     "output_type": "stream",
     "text": [
      "-0.10007747568400759   0.7853981633974483  iterations  1\n",
      "0.15585951181858398   1.1780972450961724  iterations  2\n",
      "-0.0017350795820471054   0.9817477042468103  iterations  3\n",
      "0.06809813999852177   1.0799224746714913  iterations  4\n",
      "0.03116755531201651   1.030835089459151  iterations  5\n",
      "0.014237864940221279   1.0062913968529807  iterations  6\n",
      "0.006134760856053106   0.9940195505498955  iterations  7\n",
      "0.002171042385337385   0.9878836273983529  iterations  8\n",
      "0.0002108261678151757   0.9848156658225816  iterations  9\n",
      "-0.0007639100134326504   0.9832816850346959  iterations  10\n",
      "-0.00027698843542658946   0.9840486754286388  iterations  11\n",
      "Root is  0.9844321706256103   -3.319284786587606e-05\n",
      "\n",
      "\n",
      "\n",
      "h/D is  0.22333190916853385\n"
     ]
    }
   ],
   "source": [
    "def fx(x):\n",
    "    return (x-np.sin(x)*np.cos(x))/(np.pi-x+np.sin(x)*np.cos(x))-0.2\n",
    "\n",
    "\n",
    "def rootFinder():\n",
    "    x1,x2 = 0,np.pi/2\n",
    "    i=0\n",
    "    while i<10000:\n",
    "        i+=1\n",
    "        x = (x1+x2)/2\n",
    "        f3 = fx(x)\n",
    "        f1 = fx(x1)\n",
    "        f2 = fx(x2)\n",
    "\n",
    "        if abs(f3)<0.0001 or abs(x1-x2)<10**(-12):\n",
    "            print(\"Root is \",x,\" \",f3)\n",
    "            return x\n",
    "            break\n",
    "    \n",
    "\n",
    "        if f1*f3>0:\n",
    "\n",
    "            x1=x\n",
    "        else:\n",
    "            x2=x\n",
    "        \n",
    "\n",
    "        print(f3,\" \",x,\" iterations \",i)\n",
    "    \n",
    "    print(\"Not Found\")\n",
    "        \n",
    "theta = rootFinder()\n",
    "\n",
    "print(\"\\n\\n\\nh/D is \", (1-np.cos(theta))/2)\n",
    "\n"
   ]
  },
  {
   "cell_type": "markdown",
   "metadata": {},
   "source": [
    "40%"
   ]
  },
  {
   "cell_type": "code",
   "execution_count": 97,
   "metadata": {},
   "outputs": [
    {
     "name": "stdout",
     "output_type": "stream",
     "text": [
      "-0.3000774756840076   0.7853981633974483  iterations  1\n",
      "-0.04414048818141603   1.1780972450961724  iterations  2\n",
      "0.20409117705574165   1.3744467859455345  iterations  3\n",
      "0.06590649895731343   1.2762720155208536  iterations  4\n",
      "0.007772936824644416   1.227184630308513  iterations  5\n",
      "-0.01891696793541453   1.2026409377023426  iterations  6\n",
      "-0.005760594718633549   1.2149127840054277  iterations  7\n",
      "0.0009583443322768725   1.2210487071569704  iterations  8\n",
      "-0.002412995630910797   1.217980745581199  iterations  9\n",
      "-0.0007303039757107221   1.2195147263690846  iterations  10\n",
      "0.00011327425154972204   1.2202817167630275  iterations  11\n",
      "-0.0003087011753748481   1.219898221566056  iterations  12\n",
      "Root is  1.2200899691645417   -9.776006126938075e-05\n",
      "\n",
      "\n",
      "\n",
      "h/D is  0.3282193725295802\n"
     ]
    }
   ],
   "source": [
    "def fx(x):\n",
    "    return (x-np.sin(x)*np.cos(x))/(np.pi-x+np.sin(x)*np.cos(x))-0.4\n",
    "\n",
    "\n",
    "def rootFinder():\n",
    "    x1,x2 = 0,np.pi/2\n",
    "    i=0\n",
    "    while i<10000:\n",
    "        i+=1\n",
    "        x = (x1+x2)/2\n",
    "        f3 = fx(x)\n",
    "        f1 = fx(x1)\n",
    "        f2 = fx(x2)\n",
    "\n",
    "        if abs(f3)<0.0001 or abs(x1-x2)<10**(-12):\n",
    "            print(\"Root is \",x,\" \",f3)\n",
    "            return x\n",
    "            break\n",
    "    \n",
    "\n",
    "        if f1*f3>0:\n",
    "\n",
    "            x1=x\n",
    "        else:\n",
    "            x2=x\n",
    "        \n",
    "\n",
    "        print(f3,\" \",x,\" iterations \",i)\n",
    "    \n",
    "    print(\"Not Found\")\n",
    "        \n",
    "theta = rootFinder()\n",
    "\n",
    "print(\"\\n\\n\\nh/D is \", (1-np.cos(theta))/2)\n",
    "\n"
   ]
  },
  {
   "cell_type": "markdown",
   "metadata": {},
   "source": [
    "60%"
   ]
  },
  {
   "cell_type": "code",
   "execution_count": 98,
   "metadata": {},
   "outputs": [
    {
     "name": "stdout",
     "output_type": "stream",
     "text": [
      "-0.5000774756840075   0.7853981633974483  iterations  1\n",
      "-0.24414048818141598   1.1780972450961724  iterations  2\n",
      "0.0040911770557416904   1.3744467859455345  iterations  3\n",
      "-0.13409350104268652   1.2762720155208536  iterations  4\n",
      "-0.06895840922516439   1.325359400733194  iterations  5\n",
      "-0.033485823488139665   1.349903093339364  iterations  6\n",
      "-0.014968801999393877   1.3621749396424492  iterations  7\n",
      "-0.005507773407738892   1.368310862793992  iterations  8\n",
      "-0.0007256772678405632   1.371378824369763  iterations  9\n",
      "0.0016783876076794657   1.372912805157649  iterations  10\n",
      "0.00047526679453779863   1.372145814763706  iterations  11\n",
      "-0.00012547705658982888   1.3717623195667346  iterations  12\n",
      "0.00017482687977832256   1.3719540671652202  iterations  13\n",
      "Root is  1.3718581933659775   2.4657918573645077e-05\n",
      "\n",
      "\n",
      "\n",
      "h/D is  0.4011857404758262\n"
     ]
    }
   ],
   "source": [
    "def fx(x):\n",
    "    return (x-np.sin(x)*np.cos(x))/(np.pi-x+np.sin(x)*np.cos(x))-0.6\n",
    "\n",
    "\n",
    "def rootFinder():\n",
    "    x1,x2 = 0,np.pi/2\n",
    "    i=0\n",
    "    while i<10000:\n",
    "        i+=1\n",
    "        x = (x1+x2)/2\n",
    "        f3 = fx(x)\n",
    "        f1 = fx(x1)\n",
    "        f2 = fx(x2)\n",
    "\n",
    "        if abs(f3)<0.0001 or abs(x1-x2)<10**(-12):\n",
    "            print(\"Root is \",x,\" \",f3)\n",
    "            return x\n",
    "            break\n",
    "    \n",
    "\n",
    "        if f1*f3>0:\n",
    "\n",
    "            x1=x\n",
    "        else:\n",
    "            x2=x\n",
    "        \n",
    "\n",
    "        print(f3,\" \",x,\" iterations \",i)\n",
    "    \n",
    "    print(\"Not Found\")\n",
    "        \n",
    "theta = rootFinder()\n",
    "\n",
    "print(\"\\n\\n\\nh/D is \", (1-np.cos(theta))/2)\n",
    "\n"
   ]
  },
  {
   "cell_type": "markdown",
   "metadata": {},
   "source": [
    "80%"
   ]
  },
  {
   "cell_type": "code",
   "execution_count": 100,
   "metadata": {},
   "outputs": [
    {
     "name": "stdout",
     "output_type": "stream",
     "text": [
      "-0.7000774756840076   0.7853981633974483  iterations  1\n",
      "-0.44414048818141605   1.1780972450961724  iterations  2\n",
      "-0.19590882294425838   1.3744467859455345  iterations  3\n",
      "-0.021588599053271706   1.4726215563702154  iterations  4\n",
      "0.08244183710952047   1.521708941582556  iterations  5\n",
      "0.02885441296494895   1.4971652489763856  iterations  6\n",
      "0.003253568184931499   1.4848934026733005  iterations  7\n",
      "-0.009260701396873738   1.478757479521758  iterations  8\n",
      "-0.0030270663670103337   1.4818254410975293  iterations  9\n",
      "0.00010735031592901123   1.483359421885415  iterations  10\n",
      "-0.0014613299562192816   1.4825924314914722  iterations  11\n",
      "-0.0006773582043236859   1.4829759266884435  iterations  12\n",
      "-0.00028509609049032214   1.4831676742869293  iterations  13\n",
      "Root is  1.483263548086172   -8.889593013927666e-05\n",
      "\n",
      "\n",
      "\n",
      "h/D is  0.4562894788251981\n"
     ]
    }
   ],
   "source": [
    "def fx(x):\n",
    "    return (x-np.sin(x)*np.cos(x))/(np.pi-x+np.sin(x)*np.cos(x))-0.8\n",
    "\n",
    "\n",
    "def rootFinder():\n",
    "    x1,x2 = 0,np.pi/2\n",
    "    i=0\n",
    "    while i<10000:\n",
    "        i+=1\n",
    "        x = (x1+x2)/2\n",
    "        f3 = fx(x)\n",
    "        f1 = fx(x1)\n",
    "        f2 = fx(x2)\n",
    "\n",
    "        if abs(f3)<0.0001 or abs(x1-x2)<10**(-12):\n",
    "            print(\"Root is \",x,\" \",f3)\n",
    "            return x\n",
    "            break\n",
    "    \n",
    "\n",
    "        if f1*f3>0:\n",
    "\n",
    "            x1=x\n",
    "        else:\n",
    "            x2=x\n",
    "        \n",
    "\n",
    "        print(f3,\" \",x,\" iterations \",i)\n",
    "    \n",
    "    print(\"Not Found\")\n",
    "        \n",
    "theta = rootFinder()\n",
    "\n",
    "print(\"\\n\\n\\nh/D is \", (1-np.cos(theta))/2)\n",
    "\n"
   ]
  },
  {
   "cell_type": "code",
   "execution_count": null,
   "metadata": {},
   "outputs": [],
   "source": []
  },
  {
   "cell_type": "code",
   "execution_count": null,
   "metadata": {},
   "outputs": [],
   "source": []
  }
 ],
 "metadata": {
  "kernelspec": {
   "display_name": "base",
   "language": "python",
   "name": "python3"
  },
  "language_info": {
   "codemirror_mode": {
    "name": "ipython",
    "version": 3
   },
   "file_extension": ".py",
   "mimetype": "text/x-python",
   "name": "python",
   "nbconvert_exporter": "python",
   "pygments_lexer": "ipython3",
   "version": "3.10.9"
  },
  "orig_nbformat": 4
 },
 "nbformat": 4,
 "nbformat_minor": 2
}
